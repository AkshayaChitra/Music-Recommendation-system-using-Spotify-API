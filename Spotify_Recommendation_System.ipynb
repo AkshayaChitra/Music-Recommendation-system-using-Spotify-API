{
 "cells": [
  {
   "cell_type": "markdown",
   "metadata": {},
   "source": [
    "### DATA COLLECTION"
   ]
  },
  {
   "cell_type": "markdown",
   "metadata": {},
   "source": [
    "#### IMPORTING THE NECESSARY LIBRARIES"
   ]
  },
  {
   "cell_type": "code",
   "execution_count": 1,
   "metadata": {},
   "outputs": [],
   "source": [
    "import requests\n",
    "import base64\n",
    "import pandas as pd\n",
    "import numpy as np\n",
    "from sklearn.model_selection import train_test_split\n",
    "from sklearn.preprocessing import MinMaxScaler\n",
    "from sklearn.neighbors import NearestNeighbors\n",
    "from datetime import datetime\n",
    "from sklearn.metrics.pairwise import cosine_similarity\n",
    "import seaborn as sns\n",
    "import matplotlib.pyplot as plt\n",
    "from sklearn.metrics import mean_absolute_error, mean_squared_error\n",
    "from sklearn.metrics import precision_score, recall_score"
   ]
  },
  {
   "cell_type": "markdown",
   "metadata": {},
   "source": [
    "#### SPOTIFY API CREDENTIALS"
   ]
  },
  {
   "cell_type": "code",
   "execution_count": 2,
   "metadata": {},
   "outputs": [],
   "source": [
    "client_id = \"6042a0628c0740e7a655328c453a1d6d\"\n",
    "client_secret = \"bbe6ce3ccec24c5aaf100f0c0276a1da\""
   ]
  },
  {
   "cell_type": "markdown",
   "metadata": {},
   "source": [
    "#### CREATING THE CLIENT CREDENTIALS STRINGS AND ENCODING IT IN BASE64"
   ]
  },
  {
   "cell_type": "code",
   "execution_count": 3,
   "metadata": {},
   "outputs": [],
   "source": [
    "client_credentials = f\"{client_id}:{client_secret}\"\n",
    "client_credentials_base64 = base64.b64encode(client_credentials.encode()).decode()"
   ]
  },
  {
   "cell_type": "markdown",
   "metadata": {},
   "source": [
    "#### DEFINING THE TOKEN URL AND HEADERS"
   ]
  },
  {
   "cell_type": "code",
   "execution_count": 4,
   "metadata": {},
   "outputs": [],
   "source": [
    "token_url = \"https://accounts.spotify.com/api/token\"\n",
    "headers = {'Authorization': f'Basic {client_credentials_base64}'}"
   ]
  },
  {
   "cell_type": "markdown",
   "metadata": {},
   "source": [
    "#### DATA FOR REQUESTING THE ACCESS TOKEN"
   ]
  },
  {
   "cell_type": "code",
   "execution_count": 5,
   "metadata": {},
   "outputs": [],
   "source": [
    "data = {'grant_type': 'client_credentials'}"
   ]
  },
  {
   "cell_type": "markdown",
   "metadata": {},
   "source": [
    "#### MAKING A POST REQUEST TO OBTAIN THE ACCESS TOKEN"
   ]
  },
  {
   "cell_type": "code",
   "execution_count": 6,
   "metadata": {},
   "outputs": [],
   "source": [
    "response = requests.post(token_url, data=data, headers=headers)"
   ]
  },
  {
   "cell_type": "markdown",
   "metadata": {},
   "source": [
    "#### CHECKING THE RESPONSE STATUS CODE"
   ]
  },
  {
   "cell_type": "code",
   "execution_count": 7,
   "metadata": {},
   "outputs": [
    {
     "name": "stdout",
     "output_type": "stream",
     "text": [
      "Access token obtained successfully: BQA5LSS7Q8OaFaShFMNXhz1FkQN1FhCJ6wP-kDqE9v8aaMVtIc6XhDnovzNkkUdGgUR0JeAvtOL-pYCTIsjJm2awiCgXYqTXFaa7oIS5E6ujyegW7HA\n"
     ]
    }
   ],
   "source": [
    "if response.status_code == 200:\n",
    "    access_token = response.json()['access_token']\n",
    "    print(\"Access token obtained successfully:\", access_token)\n",
    "else:\n",
    "    print(\"Error obtaining access token.\")\n",
    "    print(\"Response status code:\", response.status_code)\n",
    "    print(\"Response content:\", response.text)"
   ]
  },
  {
   "cell_type": "markdown",
   "metadata": {},
   "source": [
    "#### INSTALLING THE SPOTIPY LIBRARY"
   ]
  },
  {
   "cell_type": "code",
   "execution_count": 8,
   "metadata": {},
   "outputs": [
    {
     "name": "stdout",
     "output_type": "stream",
     "text": [
      "Requirement already satisfied: spotipy in c:\\users\\a.gowthami\\anaconda3\\lib\\site-packages (2.23.0)\n",
      "Requirement already satisfied: urllib3>=1.26.0 in c:\\users\\a.gowthami\\anaconda3\\lib\\site-packages (from spotipy) (2.0.5)\n",
      "Requirement already satisfied: six>=1.15.0 in c:\\users\\a.gowthami\\anaconda3\\lib\\site-packages (from spotipy) (1.15.0)\n",
      "Requirement already satisfied: redis>=3.5.3 in c:\\users\\a.gowthami\\anaconda3\\lib\\site-packages (from spotipy) (5.0.1)\n",
      "Requirement already satisfied: requests>=2.25.0 in c:\\users\\a.gowthami\\anaconda3\\lib\\site-packages (from spotipy) (2.31.0)\n",
      "Requirement already satisfied: async-timeout>=4.0.2 in c:\\users\\a.gowthami\\anaconda3\\lib\\site-packages (from redis>=3.5.3->spotipy) (4.0.2)\n",
      "Requirement already satisfied: charset-normalizer<4,>=2 in c:\\users\\a.gowthami\\anaconda3\\lib\\site-packages (from requests>=2.25.0->spotipy) (2.1.1)\n",
      "Requirement already satisfied: idna<4,>=2.5 in c:\\users\\a.gowthami\\anaconda3\\lib\\site-packages (from requests>=2.25.0->spotipy) (2.10)\n",
      "Requirement already satisfied: certifi>=2017.4.17 in c:\\users\\a.gowthami\\anaconda3\\lib\\site-packages (from requests>=2.25.0->spotipy) (2022.12.7)\n",
      "Note: you may need to restart the kernel to use updated packages.\n"
     ]
    }
   ],
   "source": [
    "pip install spotipy"
   ]
  },
  {
   "cell_type": "markdown",
   "metadata": {},
   "source": [
    "### RETRIEVING THE MUSIC DATA"
   ]
  },
  {
   "cell_type": "markdown",
   "metadata": {},
   "source": [
    "#### IMPORTING THE NECESSARY LIBRARIES"
   ]
  },
  {
   "cell_type": "code",
   "execution_count": 9,
   "metadata": {},
   "outputs": [],
   "source": [
    "import pandas as pd\n",
    "import spotipy\n",
    "from spotipy.oauth2 import SpotifyOAuth"
   ]
  },
  {
   "cell_type": "markdown",
   "metadata": {},
   "source": [
    "#### COLLECTING THE DATA USING THE FUNCTION"
   ]
  },
  {
   "cell_type": "code",
   "execution_count": 10,
   "metadata": {},
   "outputs": [],
   "source": [
    "def get_trending_playlist_data(playlist_id, access_token):\n",
    "    # Set up Spotipy with the access token\n",
    "    sp = spotipy.Spotify(auth=access_token)\n",
    "\n",
    "    # Get the tracks from the playlist\n",
    "    playlist_tracks = sp.playlist_tracks(playlist_id, fields='items(track(id, name, artists, album(id, name)))')\n",
    "\n",
    "    # Extract relevant information and store in a list of dictionaries\n",
    "    music_data = []\n",
    "    for track_info in playlist_tracks['items']:\n",
    "        track = track_info['track']\n",
    "        track_name = track['name']\n",
    "        artists = ', '.join([artist['name'] for artist in track['artists']])\n",
    "        album_name = track['album']['name']\n",
    "        album_id = track['album']['id']\n",
    "        track_id = track['id']\n",
    "\n",
    "        # Get audio features for the track\n",
    "        audio_features = sp.audio_features(track_id)[0] if track_id != 'Not available' else None\n",
    "\n",
    "        # Get release date of the album\n",
    "        try:\n",
    "            album_info = sp.album(album_id) if album_id != 'Not available' else None\n",
    "            release_date = album_info['release_date'] if album_info else None\n",
    "        except:\n",
    "            release_date = None\n",
    "\n",
    "        # Get popularity of the track\n",
    "        try:\n",
    "            track_info = sp.track(track_id) if track_id != 'Not available' else None\n",
    "            popularity = track_info['popularity'] if track_info else None\n",
    "        except:\n",
    "            popularity = None\n",
    "\n",
    "        # Add additional track information to the track data\n",
    "        track_data = {\n",
    "            'Track Name': track_name,\n",
    "            'Artists': artists,\n",
    "            'Album Name': album_name,\n",
    "            'Album ID': album_id,\n",
    "            'Track ID': track_id,\n",
    "            'Popularity': popularity,\n",
    "            'Release Date': release_date,\n",
    "            'Duration (ms)': audio_features['duration_ms'] if audio_features else None,\n",
    "            'Explicit': track_info.get('explicit', None),\n",
    "            'External URLs': track_info.get('external_urls', {}).get('spotify', None),\n",
    "            'Danceability': audio_features['danceability'] if audio_features else None,\n",
    "            'Energy': audio_features['energy'] if audio_features else None,\n",
    "            'Key': audio_features['key'] if audio_features else None,\n",
    "            'Loudness': audio_features['loudness'] if audio_features else None,\n",
    "            'Mode': audio_features['mode'] if audio_features else None,\n",
    "            'Speechiness': audio_features['speechiness'] if audio_features else None,\n",
    "            'Acousticness': audio_features['acousticness'] if audio_features else None,\n",
    "            'Instrumentalness': audio_features['instrumentalness'] if audio_features else None,\n",
    "            'Liveness': audio_features['liveness'] if audio_features else None,\n",
    "            'Valence': audio_features['valence'] if audio_features else None,\n",
    "            'Tempo': audio_features['tempo'] if audio_features else None,\n",
    "            # Add more attributes as needed\n",
    "        }\n",
    "\n",
    "        music_data.append(track_data)\n",
    "\n",
    "    # Create a pandas DataFrame from the list of dictionaries\n",
    "    df = pd.DataFrame(music_data)\n",
    "\n",
    "    return df"
   ]
  },
  {
   "cell_type": "code",
   "execution_count": 11,
   "metadata": {},
   "outputs": [
    {
     "name": "stdout",
     "output_type": "stream",
     "text": [
      "                      Track Name                        Artists  \\\n",
      "0                       fukumean                          Gunna   \n",
      "1                          Prada    cassö, RAYE, D-Block Europe   \n",
      "2             IDGAF (feat. Yeat)                    Drake, Yeat   \n",
      "3                I'm Good (Blue)       David Guetta, Bebe Rexha   \n",
      "4                Me Porto Bonito    Bad Bunny, Chencho Corleone   \n",
      "..                           ...                            ...   \n",
      "95                        Demons                       Doja Cat   \n",
      "96              Little Girl Gone                     CHINCHILLA   \n",
      "97         Rainfall (Praise You)                      Tom Santa   \n",
      "98  Kernkraft 400 (A Better Day)                     Topic, A7S   \n",
      "99                        LOKERA  Rauw Alejandro, Lyanno, Brray   \n",
      "\n",
      "                      Album Name                Album ID  \\\n",
      "0               a Gift & a Curse  5qmZefgh78fN3jsyPPlvuw   \n",
      "1                          Prada  5MU0RmBSpoSxOPYBfcobDc   \n",
      "2               For All The Dogs  4czdORdCWP9umpbhFXK2fW   \n",
      "3                I'm Good (Blue)  7M842DMhYVALrXsw3ty7B3   \n",
      "4               Un Verano Sin Ti  3RQQmkQEvNCY4prGKE6oc5   \n",
      "..                           ...                     ...   \n",
      "95                        Demons  7iduRgQGVmm0Thy4v734Py   \n",
      "96              Little Girl Gone  7tzZQfNdN5rWCYFcM24byP   \n",
      "97         Rainfall (Praise You)  4VanY5i4E59Mhz52qznJ95   \n",
      "98  Kernkraft 400 (A Better Day)  2NIChqkijGw4r4Dqfmg0A3   \n",
      "99                        LOKERA  4vJcqwIGUuk5TeP29OPovU   \n",
      "\n",
      "                  Track ID  Popularity Release Date  Duration (ms)  Explicit  \\\n",
      "0   4rXLjWdF2ZZpXCVTfWcshS          94   2023-06-16         125040      True   \n",
      "1   59NraMJsLaMCVtwXTSia8i          94   2023-08-11         132359      True   \n",
      "2   2YSzYUF3jWqb9YP9VXmpjE          94   2023-10-06         260111      True   \n",
      "3   4uUG5RXrOk84mYEfFvj3cK          91   2022-08-26         175238      True   \n",
      "4   6Sq7ltF9Qa7SNFBsV5Cogx          90   2022-05-06         178567      True   \n",
      "..                     ...         ...          ...            ...       ...   \n",
      "95  1xemKSmCnH59ze3KX5wwgH          76   2023-08-31         196653      True   \n",
      "96  56rpEOCBATYItSa4yPksfe          76   2023-09-01         188596      True   \n",
      "97  1M8t1j3Kv2qp97bdq5q4Vl          76   2022-02-18         166570     False   \n",
      "98  3kcKlOkQQEPVwxwljbGJ5p          76   2022-06-17         165800     False   \n",
      "99  79HZAZNnOE97rb2hnI0XQr          76   2022-07-25         195294      True   \n",
      "\n",
      "                                        External URLs  ...  Energy  Key  \\\n",
      "0   https://open.spotify.com/track/4rXLjWdF2ZZpXCV...  ...   0.622    1   \n",
      "1   https://open.spotify.com/track/59NraMJsLaMCVtw...  ...   0.717    8   \n",
      "2   https://open.spotify.com/track/2YSzYUF3jWqb9YP...  ...   0.670    8   \n",
      "3   https://open.spotify.com/track/4uUG5RXrOk84mYE...  ...   0.965    7   \n",
      "4   https://open.spotify.com/track/6Sq7ltF9Qa7SNFB...  ...   0.712    1   \n",
      "..                                                ...  ...     ...  ...   \n",
      "95  https://open.spotify.com/track/1xemKSmCnH59ze3...  ...   0.341    8   \n",
      "96  https://open.spotify.com/track/56rpEOCBATYItSa...  ...   0.683    1   \n",
      "97  https://open.spotify.com/track/1M8t1j3Kv2qp97b...  ...   0.862    5   \n",
      "98  https://open.spotify.com/track/3kcKlOkQQEPVwxw...  ...   0.727   11   \n",
      "99  https://open.spotify.com/track/79HZAZNnOE97rb2...  ...   0.828   11   \n",
      "\n",
      "    Loudness  Mode  Speechiness  Acousticness  Instrumentalness  Liveness  \\\n",
      "0     -6.747     0       0.0903      0.119000          0.000000    0.2850   \n",
      "1     -5.804     1       0.0375      0.001000          0.000002    0.1130   \n",
      "2     -8.399     1       0.2710      0.046400          0.000089    0.2050   \n",
      "3     -3.673     0       0.0343      0.003830          0.000007    0.3710   \n",
      "4     -5.105     0       0.0817      0.090100          0.000027    0.0933   \n",
      "..       ...   ...          ...           ...               ...       ...   \n",
      "95    -5.915     1       0.2810      0.000087          0.007460    0.1800   \n",
      "96    -6.342     0       0.2710      0.190000          0.000000    0.0819   \n",
      "97    -5.464     0       0.0606      0.140000          0.009200    0.2520   \n",
      "98    -5.570     0       0.0562      0.184000          0.000020    0.3090   \n",
      "99    -2.657     0       0.0452      0.210000          0.000006    0.1030   \n",
      "\n",
      "    Valence    Tempo  \n",
      "0     0.220  130.001  \n",
      "1     0.422  141.904  \n",
      "2     0.138  136.952  \n",
      "3     0.304  128.040  \n",
      "4     0.425   92.005  \n",
      "..      ...      ...  \n",
      "95    0.344  139.885  \n",
      "96    0.534  159.998  \n",
      "97    0.509  128.039  \n",
      "98    0.400  125.975  \n",
      "99    0.580  102.019  \n",
      "\n",
      "[100 rows x 21 columns]\n"
     ]
    }
   ],
   "source": [
    "playlist_id = '37i9dQZF1DX76Wlfdnj7AP'\n",
    "\n",
    "# Call the function to get the music data from the playlist and store it in a DataFrame\n",
    "music_df = get_trending_playlist_data(playlist_id, access_token)\n",
    "\n",
    "# Display the DataFrame\n",
    "print(music_df)"
   ]
  },
  {
   "cell_type": "code",
   "execution_count": 12,
   "metadata": {},
   "outputs": [],
   "source": [
    "data = pd.DataFrame(music_df)"
   ]
  },
  {
   "cell_type": "markdown",
   "metadata": {},
   "source": [
    "### DATA EXPLORATION"
   ]
  },
  {
   "cell_type": "code",
   "execution_count": 13,
   "metadata": {},
   "outputs": [
    {
     "data": {
      "text/html": [
       "<div>\n",
       "<style scoped>\n",
       "    .dataframe tbody tr th:only-of-type {\n",
       "        vertical-align: middle;\n",
       "    }\n",
       "\n",
       "    .dataframe tbody tr th {\n",
       "        vertical-align: top;\n",
       "    }\n",
       "\n",
       "    .dataframe thead th {\n",
       "        text-align: right;\n",
       "    }\n",
       "</style>\n",
       "<table border=\"1\" class=\"dataframe\">\n",
       "  <thead>\n",
       "    <tr style=\"text-align: right;\">\n",
       "      <th></th>\n",
       "      <th>Track Name</th>\n",
       "      <th>Artists</th>\n",
       "      <th>Album Name</th>\n",
       "      <th>Album ID</th>\n",
       "      <th>Track ID</th>\n",
       "      <th>Popularity</th>\n",
       "      <th>Release Date</th>\n",
       "      <th>Duration (ms)</th>\n",
       "      <th>Explicit</th>\n",
       "      <th>External URLs</th>\n",
       "      <th>...</th>\n",
       "      <th>Energy</th>\n",
       "      <th>Key</th>\n",
       "      <th>Loudness</th>\n",
       "      <th>Mode</th>\n",
       "      <th>Speechiness</th>\n",
       "      <th>Acousticness</th>\n",
       "      <th>Instrumentalness</th>\n",
       "      <th>Liveness</th>\n",
       "      <th>Valence</th>\n",
       "      <th>Tempo</th>\n",
       "    </tr>\n",
       "  </thead>\n",
       "  <tbody>\n",
       "    <tr>\n",
       "      <th>0</th>\n",
       "      <td>fukumean</td>\n",
       "      <td>Gunna</td>\n",
       "      <td>a Gift &amp; a Curse</td>\n",
       "      <td>5qmZefgh78fN3jsyPPlvuw</td>\n",
       "      <td>4rXLjWdF2ZZpXCVTfWcshS</td>\n",
       "      <td>94</td>\n",
       "      <td>2023-06-16</td>\n",
       "      <td>125040</td>\n",
       "      <td>True</td>\n",
       "      <td>https://open.spotify.com/track/4rXLjWdF2ZZpXCV...</td>\n",
       "      <td>...</td>\n",
       "      <td>0.622</td>\n",
       "      <td>1</td>\n",
       "      <td>-6.747</td>\n",
       "      <td>0</td>\n",
       "      <td>0.0903</td>\n",
       "      <td>0.11900</td>\n",
       "      <td>0.000000</td>\n",
       "      <td>0.2850</td>\n",
       "      <td>0.220</td>\n",
       "      <td>130.001</td>\n",
       "    </tr>\n",
       "    <tr>\n",
       "      <th>1</th>\n",
       "      <td>Prada</td>\n",
       "      <td>cassö, RAYE, D-Block Europe</td>\n",
       "      <td>Prada</td>\n",
       "      <td>5MU0RmBSpoSxOPYBfcobDc</td>\n",
       "      <td>59NraMJsLaMCVtwXTSia8i</td>\n",
       "      <td>94</td>\n",
       "      <td>2023-08-11</td>\n",
       "      <td>132359</td>\n",
       "      <td>True</td>\n",
       "      <td>https://open.spotify.com/track/59NraMJsLaMCVtw...</td>\n",
       "      <td>...</td>\n",
       "      <td>0.717</td>\n",
       "      <td>8</td>\n",
       "      <td>-5.804</td>\n",
       "      <td>1</td>\n",
       "      <td>0.0375</td>\n",
       "      <td>0.00100</td>\n",
       "      <td>0.000002</td>\n",
       "      <td>0.1130</td>\n",
       "      <td>0.422</td>\n",
       "      <td>141.904</td>\n",
       "    </tr>\n",
       "    <tr>\n",
       "      <th>2</th>\n",
       "      <td>IDGAF (feat. Yeat)</td>\n",
       "      <td>Drake, Yeat</td>\n",
       "      <td>For All The Dogs</td>\n",
       "      <td>4czdORdCWP9umpbhFXK2fW</td>\n",
       "      <td>2YSzYUF3jWqb9YP9VXmpjE</td>\n",
       "      <td>94</td>\n",
       "      <td>2023-10-06</td>\n",
       "      <td>260111</td>\n",
       "      <td>True</td>\n",
       "      <td>https://open.spotify.com/track/2YSzYUF3jWqb9YP...</td>\n",
       "      <td>...</td>\n",
       "      <td>0.670</td>\n",
       "      <td>8</td>\n",
       "      <td>-8.399</td>\n",
       "      <td>1</td>\n",
       "      <td>0.2710</td>\n",
       "      <td>0.04640</td>\n",
       "      <td>0.000089</td>\n",
       "      <td>0.2050</td>\n",
       "      <td>0.138</td>\n",
       "      <td>136.952</td>\n",
       "    </tr>\n",
       "    <tr>\n",
       "      <th>3</th>\n",
       "      <td>I'm Good (Blue)</td>\n",
       "      <td>David Guetta, Bebe Rexha</td>\n",
       "      <td>I'm Good (Blue)</td>\n",
       "      <td>7M842DMhYVALrXsw3ty7B3</td>\n",
       "      <td>4uUG5RXrOk84mYEfFvj3cK</td>\n",
       "      <td>91</td>\n",
       "      <td>2022-08-26</td>\n",
       "      <td>175238</td>\n",
       "      <td>True</td>\n",
       "      <td>https://open.spotify.com/track/4uUG5RXrOk84mYE...</td>\n",
       "      <td>...</td>\n",
       "      <td>0.965</td>\n",
       "      <td>7</td>\n",
       "      <td>-3.673</td>\n",
       "      <td>0</td>\n",
       "      <td>0.0343</td>\n",
       "      <td>0.00383</td>\n",
       "      <td>0.000007</td>\n",
       "      <td>0.3710</td>\n",
       "      <td>0.304</td>\n",
       "      <td>128.040</td>\n",
       "    </tr>\n",
       "    <tr>\n",
       "      <th>4</th>\n",
       "      <td>Me Porto Bonito</td>\n",
       "      <td>Bad Bunny, Chencho Corleone</td>\n",
       "      <td>Un Verano Sin Ti</td>\n",
       "      <td>3RQQmkQEvNCY4prGKE6oc5</td>\n",
       "      <td>6Sq7ltF9Qa7SNFBsV5Cogx</td>\n",
       "      <td>90</td>\n",
       "      <td>2022-05-06</td>\n",
       "      <td>178567</td>\n",
       "      <td>True</td>\n",
       "      <td>https://open.spotify.com/track/6Sq7ltF9Qa7SNFB...</td>\n",
       "      <td>...</td>\n",
       "      <td>0.712</td>\n",
       "      <td>1</td>\n",
       "      <td>-5.105</td>\n",
       "      <td>0</td>\n",
       "      <td>0.0817</td>\n",
       "      <td>0.09010</td>\n",
       "      <td>0.000027</td>\n",
       "      <td>0.0933</td>\n",
       "      <td>0.425</td>\n",
       "      <td>92.005</td>\n",
       "    </tr>\n",
       "  </tbody>\n",
       "</table>\n",
       "<p>5 rows × 21 columns</p>\n",
       "</div>"
      ],
      "text/plain": [
       "           Track Name                      Artists        Album Name  \\\n",
       "0            fukumean                        Gunna  a Gift & a Curse   \n",
       "1               Prada  cassö, RAYE, D-Block Europe             Prada   \n",
       "2  IDGAF (feat. Yeat)                  Drake, Yeat  For All The Dogs   \n",
       "3     I'm Good (Blue)     David Guetta, Bebe Rexha   I'm Good (Blue)   \n",
       "4     Me Porto Bonito  Bad Bunny, Chencho Corleone  Un Verano Sin Ti   \n",
       "\n",
       "                 Album ID                Track ID  Popularity Release Date  \\\n",
       "0  5qmZefgh78fN3jsyPPlvuw  4rXLjWdF2ZZpXCVTfWcshS          94   2023-06-16   \n",
       "1  5MU0RmBSpoSxOPYBfcobDc  59NraMJsLaMCVtwXTSia8i          94   2023-08-11   \n",
       "2  4czdORdCWP9umpbhFXK2fW  2YSzYUF3jWqb9YP9VXmpjE          94   2023-10-06   \n",
       "3  7M842DMhYVALrXsw3ty7B3  4uUG5RXrOk84mYEfFvj3cK          91   2022-08-26   \n",
       "4  3RQQmkQEvNCY4prGKE6oc5  6Sq7ltF9Qa7SNFBsV5Cogx          90   2022-05-06   \n",
       "\n",
       "   Duration (ms)  Explicit                                      External URLs  \\\n",
       "0         125040      True  https://open.spotify.com/track/4rXLjWdF2ZZpXCV...   \n",
       "1         132359      True  https://open.spotify.com/track/59NraMJsLaMCVtw...   \n",
       "2         260111      True  https://open.spotify.com/track/2YSzYUF3jWqb9YP...   \n",
       "3         175238      True  https://open.spotify.com/track/4uUG5RXrOk84mYE...   \n",
       "4         178567      True  https://open.spotify.com/track/6Sq7ltF9Qa7SNFB...   \n",
       "\n",
       "   ...  Energy  Key  Loudness  Mode  Speechiness  Acousticness  \\\n",
       "0  ...   0.622    1    -6.747     0       0.0903       0.11900   \n",
       "1  ...   0.717    8    -5.804     1       0.0375       0.00100   \n",
       "2  ...   0.670    8    -8.399     1       0.2710       0.04640   \n",
       "3  ...   0.965    7    -3.673     0       0.0343       0.00383   \n",
       "4  ...   0.712    1    -5.105     0       0.0817       0.09010   \n",
       "\n",
       "   Instrumentalness  Liveness  Valence    Tempo  \n",
       "0          0.000000    0.2850    0.220  130.001  \n",
       "1          0.000002    0.1130    0.422  141.904  \n",
       "2          0.000089    0.2050    0.138  136.952  \n",
       "3          0.000007    0.3710    0.304  128.040  \n",
       "4          0.000027    0.0933    0.425   92.005  \n",
       "\n",
       "[5 rows x 21 columns]"
      ]
     },
     "execution_count": 13,
     "metadata": {},
     "output_type": "execute_result"
    }
   ],
   "source": [
    "data.head()"
   ]
  },
  {
   "cell_type": "code",
   "execution_count": 14,
   "metadata": {},
   "outputs": [
    {
     "data": {
      "text/html": [
       "<div>\n",
       "<style scoped>\n",
       "    .dataframe tbody tr th:only-of-type {\n",
       "        vertical-align: middle;\n",
       "    }\n",
       "\n",
       "    .dataframe tbody tr th {\n",
       "        vertical-align: top;\n",
       "    }\n",
       "\n",
       "    .dataframe thead th {\n",
       "        text-align: right;\n",
       "    }\n",
       "</style>\n",
       "<table border=\"1\" class=\"dataframe\">\n",
       "  <thead>\n",
       "    <tr style=\"text-align: right;\">\n",
       "      <th></th>\n",
       "      <th>Track Name</th>\n",
       "      <th>Artists</th>\n",
       "      <th>Album Name</th>\n",
       "      <th>Album ID</th>\n",
       "      <th>Track ID</th>\n",
       "      <th>Popularity</th>\n",
       "      <th>Release Date</th>\n",
       "      <th>Duration (ms)</th>\n",
       "      <th>Explicit</th>\n",
       "      <th>External URLs</th>\n",
       "      <th>...</th>\n",
       "      <th>Energy</th>\n",
       "      <th>Key</th>\n",
       "      <th>Loudness</th>\n",
       "      <th>Mode</th>\n",
       "      <th>Speechiness</th>\n",
       "      <th>Acousticness</th>\n",
       "      <th>Instrumentalness</th>\n",
       "      <th>Liveness</th>\n",
       "      <th>Valence</th>\n",
       "      <th>Tempo</th>\n",
       "    </tr>\n",
       "  </thead>\n",
       "  <tbody>\n",
       "    <tr>\n",
       "      <th>95</th>\n",
       "      <td>Demons</td>\n",
       "      <td>Doja Cat</td>\n",
       "      <td>Demons</td>\n",
       "      <td>7iduRgQGVmm0Thy4v734Py</td>\n",
       "      <td>1xemKSmCnH59ze3KX5wwgH</td>\n",
       "      <td>76</td>\n",
       "      <td>2023-08-31</td>\n",
       "      <td>196653</td>\n",
       "      <td>True</td>\n",
       "      <td>https://open.spotify.com/track/1xemKSmCnH59ze3...</td>\n",
       "      <td>...</td>\n",
       "      <td>0.341</td>\n",
       "      <td>8</td>\n",
       "      <td>-5.915</td>\n",
       "      <td>1</td>\n",
       "      <td>0.2810</td>\n",
       "      <td>0.000087</td>\n",
       "      <td>0.007460</td>\n",
       "      <td>0.1800</td>\n",
       "      <td>0.344</td>\n",
       "      <td>139.885</td>\n",
       "    </tr>\n",
       "    <tr>\n",
       "      <th>96</th>\n",
       "      <td>Little Girl Gone</td>\n",
       "      <td>CHINCHILLA</td>\n",
       "      <td>Little Girl Gone</td>\n",
       "      <td>7tzZQfNdN5rWCYFcM24byP</td>\n",
       "      <td>56rpEOCBATYItSa4yPksfe</td>\n",
       "      <td>76</td>\n",
       "      <td>2023-09-01</td>\n",
       "      <td>188596</td>\n",
       "      <td>True</td>\n",
       "      <td>https://open.spotify.com/track/56rpEOCBATYItSa...</td>\n",
       "      <td>...</td>\n",
       "      <td>0.683</td>\n",
       "      <td>1</td>\n",
       "      <td>-6.342</td>\n",
       "      <td>0</td>\n",
       "      <td>0.2710</td>\n",
       "      <td>0.190000</td>\n",
       "      <td>0.000000</td>\n",
       "      <td>0.0819</td>\n",
       "      <td>0.534</td>\n",
       "      <td>159.998</td>\n",
       "    </tr>\n",
       "    <tr>\n",
       "      <th>97</th>\n",
       "      <td>Rainfall (Praise You)</td>\n",
       "      <td>Tom Santa</td>\n",
       "      <td>Rainfall (Praise You)</td>\n",
       "      <td>4VanY5i4E59Mhz52qznJ95</td>\n",
       "      <td>1M8t1j3Kv2qp97bdq5q4Vl</td>\n",
       "      <td>76</td>\n",
       "      <td>2022-02-18</td>\n",
       "      <td>166570</td>\n",
       "      <td>False</td>\n",
       "      <td>https://open.spotify.com/track/1M8t1j3Kv2qp97b...</td>\n",
       "      <td>...</td>\n",
       "      <td>0.862</td>\n",
       "      <td>5</td>\n",
       "      <td>-5.464</td>\n",
       "      <td>0</td>\n",
       "      <td>0.0606</td>\n",
       "      <td>0.140000</td>\n",
       "      <td>0.009200</td>\n",
       "      <td>0.2520</td>\n",
       "      <td>0.509</td>\n",
       "      <td>128.039</td>\n",
       "    </tr>\n",
       "    <tr>\n",
       "      <th>98</th>\n",
       "      <td>Kernkraft 400 (A Better Day)</td>\n",
       "      <td>Topic, A7S</td>\n",
       "      <td>Kernkraft 400 (A Better Day)</td>\n",
       "      <td>2NIChqkijGw4r4Dqfmg0A3</td>\n",
       "      <td>3kcKlOkQQEPVwxwljbGJ5p</td>\n",
       "      <td>76</td>\n",
       "      <td>2022-06-17</td>\n",
       "      <td>165800</td>\n",
       "      <td>False</td>\n",
       "      <td>https://open.spotify.com/track/3kcKlOkQQEPVwxw...</td>\n",
       "      <td>...</td>\n",
       "      <td>0.727</td>\n",
       "      <td>11</td>\n",
       "      <td>-5.570</td>\n",
       "      <td>0</td>\n",
       "      <td>0.0562</td>\n",
       "      <td>0.184000</td>\n",
       "      <td>0.000020</td>\n",
       "      <td>0.3090</td>\n",
       "      <td>0.400</td>\n",
       "      <td>125.975</td>\n",
       "    </tr>\n",
       "    <tr>\n",
       "      <th>99</th>\n",
       "      <td>LOKERA</td>\n",
       "      <td>Rauw Alejandro, Lyanno, Brray</td>\n",
       "      <td>LOKERA</td>\n",
       "      <td>4vJcqwIGUuk5TeP29OPovU</td>\n",
       "      <td>79HZAZNnOE97rb2hnI0XQr</td>\n",
       "      <td>76</td>\n",
       "      <td>2022-07-25</td>\n",
       "      <td>195294</td>\n",
       "      <td>True</td>\n",
       "      <td>https://open.spotify.com/track/79HZAZNnOE97rb2...</td>\n",
       "      <td>...</td>\n",
       "      <td>0.828</td>\n",
       "      <td>11</td>\n",
       "      <td>-2.657</td>\n",
       "      <td>0</td>\n",
       "      <td>0.0452</td>\n",
       "      <td>0.210000</td>\n",
       "      <td>0.000006</td>\n",
       "      <td>0.1030</td>\n",
       "      <td>0.580</td>\n",
       "      <td>102.019</td>\n",
       "    </tr>\n",
       "  </tbody>\n",
       "</table>\n",
       "<p>5 rows × 21 columns</p>\n",
       "</div>"
      ],
      "text/plain": [
       "                      Track Name                        Artists  \\\n",
       "95                        Demons                       Doja Cat   \n",
       "96              Little Girl Gone                     CHINCHILLA   \n",
       "97         Rainfall (Praise You)                      Tom Santa   \n",
       "98  Kernkraft 400 (A Better Day)                     Topic, A7S   \n",
       "99                        LOKERA  Rauw Alejandro, Lyanno, Brray   \n",
       "\n",
       "                      Album Name                Album ID  \\\n",
       "95                        Demons  7iduRgQGVmm0Thy4v734Py   \n",
       "96              Little Girl Gone  7tzZQfNdN5rWCYFcM24byP   \n",
       "97         Rainfall (Praise You)  4VanY5i4E59Mhz52qznJ95   \n",
       "98  Kernkraft 400 (A Better Day)  2NIChqkijGw4r4Dqfmg0A3   \n",
       "99                        LOKERA  4vJcqwIGUuk5TeP29OPovU   \n",
       "\n",
       "                  Track ID  Popularity Release Date  Duration (ms)  Explicit  \\\n",
       "95  1xemKSmCnH59ze3KX5wwgH          76   2023-08-31         196653      True   \n",
       "96  56rpEOCBATYItSa4yPksfe          76   2023-09-01         188596      True   \n",
       "97  1M8t1j3Kv2qp97bdq5q4Vl          76   2022-02-18         166570     False   \n",
       "98  3kcKlOkQQEPVwxwljbGJ5p          76   2022-06-17         165800     False   \n",
       "99  79HZAZNnOE97rb2hnI0XQr          76   2022-07-25         195294      True   \n",
       "\n",
       "                                        External URLs  ...  Energy  Key  \\\n",
       "95  https://open.spotify.com/track/1xemKSmCnH59ze3...  ...   0.341    8   \n",
       "96  https://open.spotify.com/track/56rpEOCBATYItSa...  ...   0.683    1   \n",
       "97  https://open.spotify.com/track/1M8t1j3Kv2qp97b...  ...   0.862    5   \n",
       "98  https://open.spotify.com/track/3kcKlOkQQEPVwxw...  ...   0.727   11   \n",
       "99  https://open.spotify.com/track/79HZAZNnOE97rb2...  ...   0.828   11   \n",
       "\n",
       "    Loudness  Mode  Speechiness  Acousticness  Instrumentalness  Liveness  \\\n",
       "95    -5.915     1       0.2810      0.000087          0.007460    0.1800   \n",
       "96    -6.342     0       0.2710      0.190000          0.000000    0.0819   \n",
       "97    -5.464     0       0.0606      0.140000          0.009200    0.2520   \n",
       "98    -5.570     0       0.0562      0.184000          0.000020    0.3090   \n",
       "99    -2.657     0       0.0452      0.210000          0.000006    0.1030   \n",
       "\n",
       "    Valence    Tempo  \n",
       "95    0.344  139.885  \n",
       "96    0.534  159.998  \n",
       "97    0.509  128.039  \n",
       "98    0.400  125.975  \n",
       "99    0.580  102.019  \n",
       "\n",
       "[5 rows x 21 columns]"
      ]
     },
     "execution_count": 14,
     "metadata": {},
     "output_type": "execute_result"
    }
   ],
   "source": [
    "data.tail()"
   ]
  },
  {
   "cell_type": "code",
   "execution_count": 15,
   "metadata": {},
   "outputs": [
    {
     "data": {
      "text/plain": [
       "(100, 21)"
      ]
     },
     "execution_count": 15,
     "metadata": {},
     "output_type": "execute_result"
    }
   ],
   "source": [
    "data.shape"
   ]
  },
  {
   "cell_type": "code",
   "execution_count": 16,
   "metadata": {},
   "outputs": [
    {
     "data": {
      "text/plain": [
       "Index(['Track Name', 'Artists', 'Album Name', 'Album ID', 'Track ID',\n",
       "       'Popularity', 'Release Date', 'Duration (ms)', 'Explicit',\n",
       "       'External URLs', 'Danceability', 'Energy', 'Key', 'Loudness', 'Mode',\n",
       "       'Speechiness', 'Acousticness', 'Instrumentalness', 'Liveness',\n",
       "       'Valence', 'Tempo'],\n",
       "      dtype='object')"
      ]
     },
     "execution_count": 16,
     "metadata": {},
     "output_type": "execute_result"
    }
   ],
   "source": [
    "data.columns"
   ]
  },
  {
   "cell_type": "code",
   "execution_count": 17,
   "metadata": {},
   "outputs": [
    {
     "data": {
      "text/plain": [
       "Track Name          0\n",
       "Artists             0\n",
       "Album Name          0\n",
       "Album ID            0\n",
       "Track ID            0\n",
       "Popularity          0\n",
       "Release Date        0\n",
       "Duration (ms)       0\n",
       "Explicit            0\n",
       "External URLs       0\n",
       "Danceability        0\n",
       "Energy              0\n",
       "Key                 0\n",
       "Loudness            0\n",
       "Mode                0\n",
       "Speechiness         0\n",
       "Acousticness        0\n",
       "Instrumentalness    0\n",
       "Liveness            0\n",
       "Valence             0\n",
       "Tempo               0\n",
       "dtype: int64"
      ]
     },
     "execution_count": 17,
     "metadata": {},
     "output_type": "execute_result"
    }
   ],
   "source": [
    "data.isnull().sum()"
   ]
  },
  {
   "cell_type": "code",
   "execution_count": 18,
   "metadata": {},
   "outputs": [
    {
     "data": {
      "text/html": [
       "<div>\n",
       "<style scoped>\n",
       "    .dataframe tbody tr th:only-of-type {\n",
       "        vertical-align: middle;\n",
       "    }\n",
       "\n",
       "    .dataframe tbody tr th {\n",
       "        vertical-align: top;\n",
       "    }\n",
       "\n",
       "    .dataframe thead th {\n",
       "        text-align: right;\n",
       "    }\n",
       "</style>\n",
       "<table border=\"1\" class=\"dataframe\">\n",
       "  <thead>\n",
       "    <tr style=\"text-align: right;\">\n",
       "      <th></th>\n",
       "      <th>Popularity</th>\n",
       "      <th>Duration (ms)</th>\n",
       "      <th>Danceability</th>\n",
       "      <th>Energy</th>\n",
       "      <th>Key</th>\n",
       "      <th>Loudness</th>\n",
       "      <th>Mode</th>\n",
       "      <th>Speechiness</th>\n",
       "      <th>Acousticness</th>\n",
       "      <th>Instrumentalness</th>\n",
       "      <th>Liveness</th>\n",
       "      <th>Valence</th>\n",
       "      <th>Tempo</th>\n",
       "    </tr>\n",
       "  </thead>\n",
       "  <tbody>\n",
       "    <tr>\n",
       "      <th>count</th>\n",
       "      <td>100.000000</td>\n",
       "      <td>100.000000</td>\n",
       "      <td>100.000000</td>\n",
       "      <td>100.000000</td>\n",
       "      <td>100.000000</td>\n",
       "      <td>100.000000</td>\n",
       "      <td>100.000000</td>\n",
       "      <td>100.000000</td>\n",
       "      <td>100.000000</td>\n",
       "      <td>100.000000</td>\n",
       "      <td>100.000000</td>\n",
       "      <td>100.000000</td>\n",
       "      <td>100.00000</td>\n",
       "    </tr>\n",
       "    <tr>\n",
       "      <th>mean</th>\n",
       "      <td>82.210000</td>\n",
       "      <td>184221.290000</td>\n",
       "      <td>0.723430</td>\n",
       "      <td>0.722130</td>\n",
       "      <td>5.070000</td>\n",
       "      <td>-5.800260</td>\n",
       "      <td>0.510000</td>\n",
       "      <td>0.123348</td>\n",
       "      <td>0.123241</td>\n",
       "      <td>0.035879</td>\n",
       "      <td>0.208550</td>\n",
       "      <td>0.470337</td>\n",
       "      <td>126.62132</td>\n",
       "    </tr>\n",
       "    <tr>\n",
       "      <th>std</th>\n",
       "      <td>4.243343</td>\n",
       "      <td>44302.889998</td>\n",
       "      <td>0.117877</td>\n",
       "      <td>0.144289</td>\n",
       "      <td>3.604865</td>\n",
       "      <td>2.106671</td>\n",
       "      <td>0.502418</td>\n",
       "      <td>0.102591</td>\n",
       "      <td>0.154700</td>\n",
       "      <td>0.161112</td>\n",
       "      <td>0.151223</td>\n",
       "      <td>0.223588</td>\n",
       "      <td>22.31462</td>\n",
       "    </tr>\n",
       "    <tr>\n",
       "      <th>min</th>\n",
       "      <td>76.000000</td>\n",
       "      <td>61673.000000</td>\n",
       "      <td>0.454000</td>\n",
       "      <td>0.341000</td>\n",
       "      <td>0.000000</td>\n",
       "      <td>-12.727000</td>\n",
       "      <td>0.000000</td>\n",
       "      <td>0.030800</td>\n",
       "      <td>0.000087</td>\n",
       "      <td>0.000000</td>\n",
       "      <td>0.037400</td>\n",
       "      <td>0.038500</td>\n",
       "      <td>61.31100</td>\n",
       "    </tr>\n",
       "    <tr>\n",
       "      <th>25%</th>\n",
       "      <td>79.000000</td>\n",
       "      <td>155080.000000</td>\n",
       "      <td>0.622500</td>\n",
       "      <td>0.639500</td>\n",
       "      <td>1.000000</td>\n",
       "      <td>-6.885500</td>\n",
       "      <td>0.000000</td>\n",
       "      <td>0.046700</td>\n",
       "      <td>0.022175</td>\n",
       "      <td>0.000000</td>\n",
       "      <td>0.103750</td>\n",
       "      <td>0.301750</td>\n",
       "      <td>119.48725</td>\n",
       "    </tr>\n",
       "    <tr>\n",
       "      <th>50%</th>\n",
       "      <td>82.000000</td>\n",
       "      <td>175805.500000</td>\n",
       "      <td>0.733000</td>\n",
       "      <td>0.731500</td>\n",
       "      <td>5.000000</td>\n",
       "      <td>-5.507000</td>\n",
       "      <td>1.000000</td>\n",
       "      <td>0.074850</td>\n",
       "      <td>0.064350</td>\n",
       "      <td>0.000008</td>\n",
       "      <td>0.147500</td>\n",
       "      <td>0.462000</td>\n",
       "      <td>125.96350</td>\n",
       "    </tr>\n",
       "    <tr>\n",
       "      <th>75%</th>\n",
       "      <td>85.000000</td>\n",
       "      <td>211100.000000</td>\n",
       "      <td>0.821500</td>\n",
       "      <td>0.830500</td>\n",
       "      <td>8.000000</td>\n",
       "      <td>-4.475000</td>\n",
       "      <td>1.000000</td>\n",
       "      <td>0.194000</td>\n",
       "      <td>0.170250</td>\n",
       "      <td>0.000270</td>\n",
       "      <td>0.292250</td>\n",
       "      <td>0.642500</td>\n",
       "      <td>140.04050</td>\n",
       "    </tr>\n",
       "    <tr>\n",
       "      <th>max</th>\n",
       "      <td>94.000000</td>\n",
       "      <td>322347.000000</td>\n",
       "      <td>0.954000</td>\n",
       "      <td>0.972000</td>\n",
       "      <td>11.000000</td>\n",
       "      <td>-0.504000</td>\n",
       "      <td>1.000000</td>\n",
       "      <td>0.491000</td>\n",
       "      <td>0.859000</td>\n",
       "      <td>0.901000</td>\n",
       "      <td>0.790000</td>\n",
       "      <td>0.972000</td>\n",
       "      <td>178.78100</td>\n",
       "    </tr>\n",
       "  </tbody>\n",
       "</table>\n",
       "</div>"
      ],
      "text/plain": [
       "       Popularity  Duration (ms)  Danceability      Energy         Key  \\\n",
       "count  100.000000     100.000000    100.000000  100.000000  100.000000   \n",
       "mean    82.210000  184221.290000      0.723430    0.722130    5.070000   \n",
       "std      4.243343   44302.889998      0.117877    0.144289    3.604865   \n",
       "min     76.000000   61673.000000      0.454000    0.341000    0.000000   \n",
       "25%     79.000000  155080.000000      0.622500    0.639500    1.000000   \n",
       "50%     82.000000  175805.500000      0.733000    0.731500    5.000000   \n",
       "75%     85.000000  211100.000000      0.821500    0.830500    8.000000   \n",
       "max     94.000000  322347.000000      0.954000    0.972000   11.000000   \n",
       "\n",
       "         Loudness        Mode  Speechiness  Acousticness  Instrumentalness  \\\n",
       "count  100.000000  100.000000   100.000000    100.000000        100.000000   \n",
       "mean    -5.800260    0.510000     0.123348      0.123241          0.035879   \n",
       "std      2.106671    0.502418     0.102591      0.154700          0.161112   \n",
       "min    -12.727000    0.000000     0.030800      0.000087          0.000000   \n",
       "25%     -6.885500    0.000000     0.046700      0.022175          0.000000   \n",
       "50%     -5.507000    1.000000     0.074850      0.064350          0.000008   \n",
       "75%     -4.475000    1.000000     0.194000      0.170250          0.000270   \n",
       "max     -0.504000    1.000000     0.491000      0.859000          0.901000   \n",
       "\n",
       "         Liveness     Valence      Tempo  \n",
       "count  100.000000  100.000000  100.00000  \n",
       "mean     0.208550    0.470337  126.62132  \n",
       "std      0.151223    0.223588   22.31462  \n",
       "min      0.037400    0.038500   61.31100  \n",
       "25%      0.103750    0.301750  119.48725  \n",
       "50%      0.147500    0.462000  125.96350  \n",
       "75%      0.292250    0.642500  140.04050  \n",
       "max      0.790000    0.972000  178.78100  "
      ]
     },
     "execution_count": 18,
     "metadata": {},
     "output_type": "execute_result"
    }
   ],
   "source": [
    "data.describe()"
   ]
  },
  {
   "cell_type": "code",
   "execution_count": 19,
   "metadata": {},
   "outputs": [
    {
     "name": "stdout",
     "output_type": "stream",
     "text": [
      "<class 'pandas.core.frame.DataFrame'>\n",
      "RangeIndex: 100 entries, 0 to 99\n",
      "Data columns (total 21 columns):\n",
      " #   Column            Non-Null Count  Dtype  \n",
      "---  ------            --------------  -----  \n",
      " 0   Track Name        100 non-null    object \n",
      " 1   Artists           100 non-null    object \n",
      " 2   Album Name        100 non-null    object \n",
      " 3   Album ID          100 non-null    object \n",
      " 4   Track ID          100 non-null    object \n",
      " 5   Popularity        100 non-null    int64  \n",
      " 6   Release Date      100 non-null    object \n",
      " 7   Duration (ms)     100 non-null    int64  \n",
      " 8   Explicit          100 non-null    bool   \n",
      " 9   External URLs     100 non-null    object \n",
      " 10  Danceability      100 non-null    float64\n",
      " 11  Energy            100 non-null    float64\n",
      " 12  Key               100 non-null    int64  \n",
      " 13  Loudness          100 non-null    float64\n",
      " 14  Mode              100 non-null    int64  \n",
      " 15  Speechiness       100 non-null    float64\n",
      " 16  Acousticness      100 non-null    float64\n",
      " 17  Instrumentalness  100 non-null    float64\n",
      " 18  Liveness          100 non-null    float64\n",
      " 19  Valence           100 non-null    float64\n",
      " 20  Tempo             100 non-null    float64\n",
      "dtypes: bool(1), float64(9), int64(4), object(7)\n",
      "memory usage: 15.8+ KB\n"
     ]
    }
   ],
   "source": [
    "data.info()"
   ]
  },
  {
   "cell_type": "markdown",
   "metadata": {},
   "source": [
    "### VISUALISATIONS"
   ]
  },
  {
   "cell_type": "code",
   "execution_count": 20,
   "metadata": {},
   "outputs": [
    {
     "data": {
      "image/png": "[encoded data removed]",
      "text/plain": [
       "<Figure size 432x288 with 1 Axes>"
      ]
     },
     "metadata": {
      "needs_background": "light"
     },
     "output_type": "display_data"
    }
   ],
   "source": [
    "# Categorize Popularity into Ranges\n",
    "popularity_ranges = pd.cut(data['Popularity'], bins=[0, 20, 40, 60, 80, 100], labels=['Very Low', 'Low', 'Moderate', 'High', 'Very High'])\n",
    "\n",
    "# Create a Bar Chart\n",
    "popularity_counts = popularity_ranges.value_counts()\n",
    "ax = popularity_counts.plot(kind='bar')\n",
    "ax.set_ylim(0, popularity_counts.max() + 5)  # Adjust the upper limit as needed\n",
    "plt.title('Distribution of Popularity')\n",
    "plt.xlabel('Popularity Range')\n",
    "plt.ylabel('Number of Songs')\n",
    "plt.show()"
   ]
  },
  {
   "cell_type": "code",
   "execution_count": 21,
   "metadata": {},
   "outputs": [
    {
     "data": {
      "image/png": "[encoded data removed]",
      "text/plain": [
       "<Figure size 432x288 with 1 Axes>"
      ]
     },
     "metadata": {
      "needs_background": "light"
     },
     "output_type": "display_data"
    }
   ],
   "source": [
    "sns.histplot(data=data, x='Danceability', bins=20, kde=True)\n",
    "plt.title('Distribution of Danceability')\n",
    "plt.xlabel('Danceability Score')\n",
    "plt.ylabel('Number of Songs')\n",
    "plt.show()"
   ]
  },
  {
   "cell_type": "code",
   "execution_count": 22,
   "metadata": {},
   "outputs": [
    {
     "data": {
      "image/png": "[encoded data removed]",
      "text/plain": [
       "<Figure size 432x288 with 1 Axes>"
      ]
     },
     "metadata": {
      "needs_background": "light"
     },
     "output_type": "display_data"
    }
   ],
   "source": [
    "sns.scatterplot(data=data, x='Energy', y='Valence')\n",
    "plt.title('Energy vs. Valence')\n",
    "plt.xlabel('Energy')\n",
    "plt.ylabel('Valence')\n",
    "plt.show()"
   ]
  },
  {
   "cell_type": "code",
   "execution_count": 23,
   "metadata": {},
   "outputs": [
    {
     "data": {
      "image/png": "[encoded data removed]",
      "text/plain": [
       "<Figure size 576x576 with 1 Axes>"
      ]
     },
     "metadata": {},
     "output_type": "display_data"
    }
   ],
   "source": [
    "labels = 'Explicit', 'Non-Explicit'\n",
    "sizes = [data['Explicit'].sum(), len(data) - data['Explicit'].sum()]\n",
    "plt.figure(figsize = (8,8))\n",
    "plt.pie(sizes, labels=labels, autopct='%1.1f%%')\n",
    "plt.title('Proportion of Explicit Songs')\n",
    "plt.legend()\n",
    "plt.show()"
   ]
  },
  {
   "cell_type": "code",
   "execution_count": 24,
   "metadata": {},
   "outputs": [
    {
     "data": {
      "image/png": "[encoded data removed]",
      "text/plain": [
       "<Figure size 432x288 with 1 Axes>"
      ]
     },
     "metadata": {
      "needs_background": "light"
     },
     "output_type": "display_data"
    }
   ],
   "source": [
    "sns.boxplot(data=data, y='Acousticness')\n",
    "plt.title('Distribution of Acousticness')\n",
    "plt.ylabel('Acousticness')\n",
    "plt.show()"
   ]
  },
  {
   "cell_type": "code",
   "execution_count": 25,
   "metadata": {},
   "outputs": [
    {
     "data": {
      "image/png": "[encoded data removed]",
      "text/plain": [
       "<Figure size 576x432 with 1 Axes>"
      ]
     },
     "metadata": {
      "needs_background": "light"
     },
     "output_type": "display_data"
    }
   ],
   "source": [
    "key_counts = data['Key'].value_counts().sort_index()\n",
    "plt.figure(figsize=(8, 6))\n",
    "key_counts.plot(kind='bar')\n",
    "plt.title('Distribution of Songs by Key')\n",
    "plt.xlabel('Key')\n",
    "plt.ylabel('Number of Songs')\n",
    "plt.show()"
   ]
  },
  {
   "cell_type": "code",
   "execution_count": 26,
   "metadata": {},
   "outputs": [
    {
     "data": {
      "image/png": "[encoded data removed]",
      "text/plain": [
       "<Figure size 900x900 with 30 Axes>"
      ]
     },
     "metadata": {
      "needs_background": "light"
     },
     "output_type": "display_data"
    }
   ],
   "source": [
    "# Pair Plot for Multiple Audio Features\n",
    "selected_features = ['Danceability', 'Energy', 'Loudness', 'Speechiness', 'Valence']\n",
    "sns.pairplot(data[selected_features])\n",
    "plt.suptitle('Pair Plot of Audio Features', y=1.02)\n",
    "plt.show()"
   ]
  },
  {
   "cell_type": "markdown",
   "metadata": {},
   "source": [
    "### MODEL BUILDING"
   ]
  },
  {
   "cell_type": "markdown",
   "metadata": {},
   "source": [
    "#### FUNCTION TO CALCULATE WEIGHTED POPULARITY SCORES"
   ]
  },
  {
   "cell_type": "code",
   "execution_count": 27,
   "metadata": {},
   "outputs": [],
   "source": [
    "def calculate_weighted_popularity(release_date):\n",
    "    \n",
    "    release_date = datetime.strptime(release_date, \"%Y-%m-%d\")\n",
    "    time_span = datetime.now() - release_date\n",
    "    \n",
    "    weight = 1/(time_span.days + 1)\n",
    "    return weight"
   ]
  },
  {
   "cell_type": "markdown",
   "metadata": {},
   "source": [
    "#### NORMALIZATION OF MUSIC FEATURES USING MIN-MAX SCALER"
   ]
  },
  {
   "cell_type": "code",
   "execution_count": 28,
   "metadata": {},
   "outputs": [],
   "source": [
    "scaler = MinMaxScaler()\n",
    "music_features = data[[\"Danceability\",\"Energy\",\"Key\",\"Loudness\",\"Mode\",\n",
    "                       \"Speechiness\",\"Acousticness\",\"Instrumentalness\",\n",
    "                       \"Liveness\",\"Valence\",\"Tempo\"]].values\n",
    "music_features_scaled = scaler.fit_transform(music_features)"
   ]
  },
  {
   "cell_type": "markdown",
   "metadata": {},
   "source": [
    "#### FUNCTION TO GET CONTENT-BASED RECOMMENDATIONS BASED ON MUSIC FEATURES"
   ]
  },
  {
   "cell_type": "code",
   "execution_count": 29,
   "metadata": {},
   "outputs": [],
   "source": [
    "def content_based_recommendations(input_song_name, num_recommendations=5):\n",
    "    if input_song_name not in music_df['Track Name'].values:\n",
    "        print(f\"'{input_song_name}' not found in the dataset. Please enter a valid song name.\")\n",
    "        return\n",
    "\n",
    "    # Get the index of the input song in the music DataFrame\n",
    "    input_song_index = music_df[music_df['Track Name'] == input_song_name].index[0]\n",
    "\n",
    "    # Calculate the similarity scores based on music features (cosine similarity)\n",
    "    similarity_scores = cosine_similarity([music_features_scaled[input_song_index]], music_features_scaled)\n",
    "\n",
    "    # Get the indices of the most similar songs\n",
    "    similar_song_indices = similarity_scores.argsort()[0][::-1][1:num_recommendations + 1]\n",
    "\n",
    "    # Get the names of the most similar songs based on content-based filtering\n",
    "    content_based_recommendations = music_df.iloc[similar_song_indices][['Track Name', 'Artists', 'Album Name', 'Release Date', 'Popularity']]\n",
    "\n",
    "    return content_based_recommendations"
   ]
  },
  {
   "cell_type": "markdown",
   "metadata": {},
   "source": [
    "#### FUNCTION TO GET HYBRID RECOMMENDATIONS BASED ON WEIGHTED POPULARITY"
   ]
  },
  {
   "cell_type": "code",
   "execution_count": 30,
   "metadata": {},
   "outputs": [],
   "source": [
    "def hybrid_recommendations(input_song_name, num_recommendations=5, alpha=0.5):\n",
    "    if input_song_name not in music_df['Track Name'].values:\n",
    "        print(f\"'{input_song_name}' not found in the dataset. Please enter a valid song name.\")\n",
    "        return\n",
    "\n",
    "    # Get content-based recommendations\n",
    "    content_based_rec = content_based_recommendations(input_song_name, num_recommendations)\n",
    "\n",
    "    # Get the popularity score of the input song\n",
    "    popularity_score = music_df.loc[music_df['Track Name'] == input_song_name, 'Popularity'].values[0]\n",
    "\n",
    "    # Calculate the weighted popularity score\n",
    "    weighted_popularity_score = popularity_score * calculate_weighted_popularity(music_df.loc[music_df['Track Name'] == input_song_name, 'Release Date'].values[0])\n",
    "\n",
    "    # Combine content-based and popularity-based recommendations based on weighted popularity\n",
    "    hybrid_recommendations = content_based_rec\n",
    "    hybrid_recommendations = hybrid_recommendations.append({\n",
    "        'Track Name': input_song_name,\n",
    "        'Artists': music_df.loc[music_df['Track Name'] == input_song_name, 'Artists'].values[0],\n",
    "        'Album Name': music_df.loc[music_df['Track Name'] == input_song_name, 'Album Name'].values[0],\n",
    "        'Release Date': music_df.loc[music_df['Track Name'] == input_song_name, 'Release Date'].values[0],\n",
    "        'Popularity': weighted_popularity_score\n",
    "    }, ignore_index=True)\n",
    "\n",
    "    # Sort the hybrid recommendations based on weighted popularity score\n",
    "    hybrid_recommendations = hybrid_recommendations.sort_values(by='Popularity', ascending=False)\n",
    "\n",
    "    # Remove the input song from the recommendations\n",
    "    hybrid_recommendations = hybrid_recommendations[hybrid_recommendations['Track Name'] != input_song_name]\n",
    "\n",
    "\n",
    "    return hybrid_recommendations"
   ]
  },
  {
   "cell_type": "markdown",
   "metadata": {},
   "source": [
    "#### TESTING THE FUNCTION TO GENERATE MUSIC RECOMMENDATIONS"
   ]
  },
  {
   "cell_type": "code",
   "execution_count": 31,
   "metadata": {},
   "outputs": [
    {
     "name": "stdout",
     "output_type": "stream",
     "text": [
      "Hybrid recommended songs for 'I'm Good (Blue)':\n",
      "                   Track Name                                     Artists  \\\n",
      "3  FE!N (feat. Playboi Carti)                 Travis Scott, Playboi Carti   \n",
      "4                Call It Love                     Felix Jaehn, Ray Dalton   \n",
      "1                       REACT  Switch Disco, Ella Henderson, Robert Miles   \n",
      "0                        BOTH                      Tiësto, 21 Savage, BIA   \n",
      "2               Where You Are                          John Summit, Hayla   \n",
      "\n",
      "      Album Name Release Date  Popularity  \n",
      "3         UTOPIA   2023-07-28        89.0  \n",
      "4   Call It Love   2022-09-16        81.0  \n",
      "1          REACT   2023-01-13        80.0  \n",
      "0           BOTH   2023-08-29        79.0  \n",
      "2  Where You Are   2023-03-03        78.0  \n"
     ]
    },
    {
     "name": "stderr",
     "output_type": "stream",
     "text": [
      "<ipython-input-30-b751160e1787>:17: FutureWarning: The frame.append method is deprecated and will be removed from pandas in a future version. Use pandas.concat instead.\n",
      "  hybrid_recommendations = hybrid_recommendations.append({\n"
     ]
    }
   ],
   "source": [
    "input_song_name = \"I'm Good (Blue)\"\n",
    "recommendations = hybrid_recommendations(input_song_name, num_recommendations=5)\n",
    "print(f\"Hybrid recommended songs for '{input_song_name}':\")\n",
    "print(recommendations)"
   ]
  },
  {
   "cell_type": "code",
   "execution_count": 32,
   "metadata": {},
   "outputs": [],
   "source": [
    "import pickle\n",
    "pickle.dump(music_features_scaled,open('music_similarity.pkl','wb'))\n",
    "pickle.dump(data,open('data.pkl','wb'))"
   ]
  },
  {
   "cell_type": "code",
   "execution_count": 33,
   "metadata": {},
   "outputs": [],
   "source": [
    "# Save the functions to separate pickle files\n",
    "\n",
    "pickle.dump(calculate_weighted_popularity,open('calculate_weighted_popularity.pkl','wb'))\n",
    "pickle.dump(content_based_recommendations,open('content_based_recommendations.pkl','wb'))\n",
    "pickle.dump(hybrid_recommendations,open('hybrid_recommendations.pkl','wb'))"
   ]
  },
  {
   "cell_type": "markdown",
   "metadata": {},
   "source": [
    "#### EVALUATING THE MODEL"
   ]
  },
  {
   "cell_type": "code",
   "execution_count": 39,
   "metadata": {},
   "outputs": [
    {
     "name": "stdout",
     "output_type": "stream",
     "text": [
      "Mean Squared Error (Content-Based): 50.67333333333333\n",
      "Root Mean Squared Error (Content-Based): 7.118520445523306\n",
      "Mean Absolute Error (Content-Based): 5.673333333333333\n",
      "Precision (Content-Based): 1.0\n",
      "Recall (Content-Based): 1.0\n",
      "Accuracy (Content-Based): 100.00%\n"
     ]
    }
   ],
   "source": [
    "# Split the data into training and testing sets\n",
    "train_data, test_data = train_test_split(data, test_size=0.3, random_state=43)\n",
    "\n",
    "# Train the content-based model\n",
    "# (Replace this with the appropriate training code based on your original content-based recommendation)\n",
    "\n",
    "# Initialize empty arrays to store predictions and true values\n",
    "content_based_predictions = np.array([])\n",
    "content_based_true_values = np.array([])\n",
    "\n",
    "# Evaluate content-based model for all test songs\n",
    "for input_song_name in test_data['Track Name'].values:\n",
    "    recommendations = content_based_recommendations(input_song_name, num_recommendations=5)\n",
    "    content_based_predictions = np.concatenate([content_based_predictions, recommendations['Popularity'].values])\n",
    "    content_based_true_values = np.concatenate([content_based_true_values, np.repeat(test_data[test_data['Track Name'] == input_song_name]['Popularity'].values, len(recommendations))])\n",
    "\n",
    "# Calculate additional metrics\n",
    "\n",
    "content_based_mse = mean_squared_error(content_based_true_values, content_based_predictions)\n",
    "print(f\"Mean Squared Error (Content-Based): {content_based_mse}\")\n",
    "\n",
    "content_based_rmse = np.sqrt(content_based_mse)\n",
    "print(f\"Root Mean Squared Error (Content-Based): {content_based_rmse}\")\n",
    "\n",
    "content_based_mae = mean_absolute_error(content_based_true_values, content_based_predictions)\n",
    "print(f\"Mean Absolute Error (Content-Based): {content_based_mae}\")\n",
    "\n",
    "# Assuming you have defined threshold values for popularity levels\n",
    "threshold = 50  # Adjust this based on your data\n",
    "\n",
    "def calculate_precision_recall(true_values, predictions, threshold):\n",
    "    true_positive = np.sum((true_values >= threshold) & (predictions >= threshold))\n",
    "    false_positive = np.sum((true_values < threshold) & (predictions >= threshold))\n",
    "    false_negative = np.sum((true_values >= threshold) & (predictions < threshold))\n",
    "\n",
    "    precision = true_positive / (true_positive + false_positive) if (true_positive + false_positive) > 0 else 0\n",
    "    recall = true_positive / (true_positive + false_negative) if (true_positive + false_negative) > 0 else 0\n",
    "\n",
    "    return precision, recall\n",
    "\n",
    "content_based_precision, content_based_recall = calculate_precision_recall(content_based_true_values, content_based_predictions, threshold)\n",
    "print(f\"Precision (Content-Based): {content_based_precision}\")\n",
    "print(f\"Recall (Content-Based): {content_based_recall}\")\n",
    "\n",
    "# Calculate accuracy\n",
    "accuracy = np.sum((content_based_predictions >= threshold) == (content_based_true_values >= threshold)) / len(content_based_true_values)\n",
    "accuracy_percentage = accuracy * 100\n",
    "print(f\"Accuracy (Content-Based): {accuracy_percentage:.2f}%\")"
   ]
  },
  {
   "cell_type": "markdown",
   "metadata": {},
   "source": [
    "INTERPRETATION:\n",
    "\n",
    "1. **Root Mean Squared Error (RMSE):**\n",
    "   - The RMSE is 7.09, which represents the square root of the average squared differences between the predicted and true popularity scores. Lower RMSE values indicate better accuracy. In this case, an RMSE of 7.09 suggests that, on average, the predicted popularity scores deviate by approximately 7.09 units from the true values.\n",
    "\n",
    "2. **Mean Absolute Error (MAE):**\n",
    "   - The MAE is 5.62, which represents the average absolute differences between the predicted and true popularity scores. Lower MAE values indicate better accuracy. In this case, an MAE of 5.62 means that, on average, the predicted popularity scores deviate by approximately 5.62 units from the true values.\n",
    "\n",
    "3. **Precision:**\n",
    "   - Precision is 1.0, indicating that all the songs predicted to be popular are actually popular. Precision is the ratio of true positive predictions to the total positive predictions. A precision of 1.0 means that there are no false positives.\n",
    "\n",
    "4. **Recall:**\n",
    "   - Recall is 1.0, indicating that all the actually popular songs were correctly identified by the model. Recall is the ratio of true positive predictions to the total actual positives. A recall of 1.0 means that there are no false negatives.\n",
    "\n",
    "In summary, The content-based recommendation model appears to have high precision and recall, suggesting that it is very accurate in identifying popular songs. The RMSE and MAE values also indicate relatively low prediction errors. Overall, these metrics suggest that your content-based recommendation model is performing well on the given test set."
   ]
  },
  {
   "cell_type": "markdown",
   "metadata": {},
   "source": [
    "#### BUILDING KNN MODEL"
   ]
  },
  {
   "cell_type": "code",
   "execution_count": 35,
   "metadata": {},
   "outputs": [
    {
     "data": {
      "text/html": [
       "<style>#sk-container-id-1 {color: black;}#sk-container-id-1 pre{padding: 0;}#sk-container-id-1 div.sk-toggleable {background-color: white;}#sk-container-id-1 label.sk-toggleable__label {cursor: pointer;display: block;width: 100%;margin-bottom: 0;padding: 0.3em;box-sizing: border-box;text-align: center;}#sk-container-id-1 label.sk-toggleable__label-arrow:before {content: \"▸\";float: left;margin-right: 0.25em;color: #696969;}#sk-container-id-1 label.sk-toggleable__label-arrow:hover:before {color: black;}#sk-container-id-1 div.sk-estimator:hover label.sk-toggleable__label-arrow:before {color: black;}#sk-container-id-1 div.sk-toggleable__content {max-height: 0;max-width: 0;overflow: hidden;text-align: left;background-color: #f0f8ff;}#sk-container-id-1 div.sk-toggleable__content pre {margin: 0.2em;color: black;border-radius: 0.25em;background-color: #f0f8ff;}#sk-container-id-1 input.sk-toggleable__control:checked~div.sk-toggleable__content {max-height: 200px;max-width: 100%;overflow: auto;}#sk-container-id-1 input.sk-toggleable__control:checked~label.sk-toggleable__label-arrow:before {content: \"▾\";}#sk-container-id-1 div.sk-estimator input.sk-toggleable__control:checked~label.sk-toggleable__label {background-color: #d4ebff;}#sk-container-id-1 div.sk-label input.sk-toggleable__control:checked~label.sk-toggleable__label {background-color: #d4ebff;}#sk-container-id-1 input.sk-hidden--visually {border: 0;clip: rect(1px 1px 1px 1px);clip: rect(1px, 1px, 1px, 1px);height: 1px;margin: -1px;overflow: hidden;padding: 0;position: absolute;width: 1px;}#sk-container-id-1 div.sk-estimator {font-family: monospace;background-color: #f0f8ff;border: 1px dotted black;border-radius: 0.25em;box-sizing: border-box;margin-bottom: 0.5em;}#sk-container-id-1 div.sk-estimator:hover {background-color: #d4ebff;}#sk-container-id-1 div.sk-parallel-item::after {content: \"\";width: 100%;border-bottom: 1px solid gray;flex-grow: 1;}#sk-container-id-1 div.sk-label:hover label.sk-toggleable__label {background-color: #d4ebff;}#sk-container-id-1 div.sk-serial::before {content: \"\";position: absolute;border-left: 1px solid gray;box-sizing: border-box;top: 0;bottom: 0;left: 50%;z-index: 0;}#sk-container-id-1 div.sk-serial {display: flex;flex-direction: column;align-items: center;background-color: white;padding-right: 0.2em;padding-left: 0.2em;position: relative;}#sk-container-id-1 div.sk-item {position: relative;z-index: 1;}#sk-container-id-1 div.sk-parallel {display: flex;align-items: stretch;justify-content: center;background-color: white;position: relative;}#sk-container-id-1 div.sk-item::before, #sk-container-id-1 div.sk-parallel-item::before {content: \"\";position: absolute;border-left: 1px solid gray;box-sizing: border-box;top: 0;bottom: 0;left: 50%;z-index: -1;}#sk-container-id-1 div.sk-parallel-item {display: flex;flex-direction: column;z-index: 1;position: relative;background-color: white;}#sk-container-id-1 div.sk-parallel-item:first-child::after {align-self: flex-end;width: 50%;}#sk-container-id-1 div.sk-parallel-item:last-child::after {align-self: flex-start;width: 50%;}#sk-container-id-1 div.sk-parallel-item:only-child::after {width: 0;}#sk-container-id-1 div.sk-dashed-wrapped {border: 1px dashed gray;margin: 0 0.4em 0.5em 0.4em;box-sizing: border-box;padding-bottom: 0.4em;background-color: white;}#sk-container-id-1 div.sk-label label {font-family: monospace;font-weight: bold;display: inline-block;line-height: 1.2em;}#sk-container-id-1 div.sk-label-container {text-align: center;}#sk-container-id-1 div.sk-container {/* jupyter's `normalize.less` sets `[hidden] { display: none; }` but bootstrap.min.css set `[hidden] { display: none !important; }` so we also need the `!important` here to be able to override the default hidden behavior on the sphinx rendered scikit-learn.org. See: https://github.com/scikit-learn/scikit-learn/issues/21755 */display: inline-block !important;position: relative;}#sk-container-id-1 div.sk-text-repr-fallback {display: none;}</style><div id=\"sk-container-id-1\" class=\"sk-top-container\"><div class=\"sk-text-repr-fallback\"><pre>NearestNeighbors(algorithm=&#x27;brute&#x27;, metric=&#x27;cosine&#x27;, n_neighbors=10)</pre><b>In a Jupyter environment, please rerun this cell to show the HTML representation or trust the notebook. <br />On GitHub, the HTML representation is unable to render, please try loading this page with nbviewer.org.</b></div><div class=\"sk-container\" hidden><div class=\"sk-item\"><div class=\"sk-estimator sk-toggleable\"><input class=\"sk-toggleable__control sk-hidden--visually\" id=\"sk-estimator-id-1\" type=\"checkbox\" checked><label for=\"sk-estimator-id-1\" class=\"sk-toggleable__label sk-toggleable__label-arrow\">NearestNeighbors</label><div class=\"sk-toggleable__content\"><pre>NearestNeighbors(algorithm=&#x27;brute&#x27;, metric=&#x27;cosine&#x27;, n_neighbors=10)</pre></div></div></div></div></div>"
      ],
      "text/plain": [
       "NearestNeighbors(algorithm='brute', metric='cosine', n_neighbors=10)"
      ]
     },
     "execution_count": 35,
     "metadata": {},
     "output_type": "execute_result"
    }
   ],
   "source": [
    "knn_model = NearestNeighbors(metric='cosine', algorithm='brute', n_neighbors=10)\n",
    "knn_model.fit(music_features_scaled)"
   ]
  },
  {
   "cell_type": "code",
   "execution_count": 36,
   "metadata": {},
   "outputs": [],
   "source": [
    "def content_based_recommendations_knn(input_song_name, num_recommendations=5):\n",
    "    if input_song_name not in music_df['Track Name'].values:\n",
    "        print(f\"'{input_song_name}' not found in the dataset. Please enter a valid song name.\")\n",
    "        return\n",
    "\n",
    "    # Get the index of the input song in the music DataFrame\n",
    "    input_song_index = music_df[music_df['Track Name'] == input_song_name].index[0]\n",
    "\n",
    "    # Find the nearest neighbors\n",
    "    _, neighbor_indices = knn_model.kneighbors([music_features_scaled[input_song_index]])\n",
    "\n",
    "    # Get the indices of the most similar songs\n",
    "    similar_song_indices = neighbor_indices[0][1:num_recommendations + 1]\n",
    "\n",
    "    # Get the names of the most similar songs based on content-based filtering using KNN\n",
    "    content_based_recommendations_knn = music_df.iloc[similar_song_indices][['Track Name', \\\n",
    "                                    'Artists', 'Album Name', 'Release Date', 'Popularity']]\n",
    "\n",
    "    return content_based_recommendations_knn"
   ]
  },
  {
   "cell_type": "code",
   "execution_count": 37,
   "metadata": {},
   "outputs": [
    {
     "name": "stdout",
     "output_type": "stream",
     "text": [
      "KNN content-based recommended songs for 'I'm Good (Blue)':\n",
      "                    Track Name                                     Artists  \\\n",
      "78                        BOTH                      Tiësto, 21 Savage, BIA   \n",
      "69                       REACT  Switch Disco, Ella Henderson, Robert Miles   \n",
      "84               Where You Are                          John Summit, Hayla   \n",
      "5   FE!N (feat. Playboi Carti)                 Travis Scott, Playboi Carti   \n",
      "59                Call It Love                     Felix Jaehn, Ray Dalton   \n",
      "\n",
      "       Album Name Release Date  Popularity  \n",
      "78           BOTH   2023-08-29          79  \n",
      "69          REACT   2023-01-13          80  \n",
      "84  Where You Are   2023-03-03          78  \n",
      "5          UTOPIA   2023-07-28          89  \n",
      "59   Call It Love   2022-09-16          81  \n"
     ]
    }
   ],
   "source": [
    "input_song_name = \"I'm Good (Blue)\"\n",
    "recommendations_knn = content_based_recommendations_knn(input_song_name, num_recommendations=5)\n",
    "print(f\"KNN content-based recommended songs for '{input_song_name}':\")\n",
    "print(recommendations_knn)"
   ]
  },
  {
   "cell_type": "markdown",
   "metadata": {},
   "source": [
    "#### EVALUATING THE MODEL"
   ]
  },
  {
   "cell_type": "code",
   "execution_count": 41,
   "metadata": {},
   "outputs": [
    {
     "name": "stdout",
     "output_type": "stream",
     "text": [
      "Mean Squared Error (KNN): 44.98\n",
      "Root Mean Squared Error (KNN): 6.706713054842886\n",
      "Mean Absolute Error (KNN): 5.34\n",
      "Precision (KNN): 1.0\n",
      "Recall (KNN): 1.0\n",
      "Accuracy (KNN): 1.0\n"
     ]
    }
   ],
   "source": [
    "# Split the data into training and testing sets\n",
    "train_data, test_data = train_test_split(data, test_size=0.3, random_state=42)\n",
    "\n",
    "# Initialize empty arrays to store predictions and true values\n",
    "knn_predictions = np.array([])\n",
    "knn_true_values = np.array([])\n",
    "\n",
    "# Evaluate KNN model for all test songs\n",
    "for input_song_name in test_data['Track Name'].values:\n",
    "    recommendations_knn = content_based_recommendations_knn(input_song_name, num_recommendations=5)\n",
    "    knn_predictions = np.concatenate([knn_predictions, recommendations_knn['Popularity'].values])\n",
    "    knn_true_values = np.concatenate([knn_true_values, np.repeat(test_data[test_data['Track Name'] == input_song_name]['Popularity'].values, len(recommendations_knn))])\n",
    "\n",
    "# Calculate metrics\n",
    "knn_mse = mean_squared_error(knn_true_values, knn_predictions)\n",
    "knn_rmse = np.sqrt(knn_mse)\n",
    "knn_mae = mean_absolute_error(knn_true_values, knn_predictions)\n",
    "\n",
    "threshold = 50  # Adjust this based on your data\n",
    "knn_precision, knn_recall = calculate_precision_recall(knn_true_values, knn_predictions, threshold)\n",
    "knn_accuracy = np.sum((knn_predictions >= threshold) == (knn_true_values >= threshold)) / len(knn_true_values)\n",
    "\n",
    "# Print the results\n",
    "print(f\"Mean Squared Error (KNN): {knn_mse}\")\n",
    "print(f\"Root Mean Squared Error (KNN): {knn_rmse}\")\n",
    "print(f\"Mean Absolute Error (KNN): {knn_mae}\")\n",
    "print(f\"Precision (KNN): {knn_precision}\")\n",
    "print(f\"Recall (KNN): {knn_recall}\")\n",
    "print(f\"Accuracy (KNN): {knn_accuracy}\")"
   ]
  },
  {
   "cell_type": "markdown",
   "metadata": {},
   "source": [
    "INTERPRETATION:\n",
    "\n",
    "Mean Squared Error (MSE): 44.98\n",
    "\n",
    "MSE measures the average squared difference between predicted and actual values. In this case, a lower MSE is better, indicating that, on average, the predictions are closer to the actual values. The value of 44.98 suggests a relatively low level of error.\n",
    "Root Mean Squared Error (RMSE): 6.71\n",
    "\n",
    "RMSE is the square root of MSE, providing a measure of the average magnitude of errors. A lower RMSE indicates better model performance. Here, 6.71 suggests that, on average, the predictions deviate by approximately 6.71 units from the actual values.\n",
    "Mean Absolute Error (MAE): 5.34\n",
    "\n",
    "MAE is the average absolute difference between predicted and actual values. Similar to MSE and RMSE, lower values are better. The MAE of 5.34 indicates the average magnitude of the errors.\n",
    "Precision: 1.0\n",
    "\n",
    "Precision is a measure of the accuracy of the positive predictions. A precision of 1.0 means that all the items predicted as positive are indeed positive, indicating perfect precision.\n",
    "Recall: 1.0\n",
    "\n",
    "Recall (or sensitivity) measures the ability of the model to capture all the relevant items. A recall of 1.0 means that the model identified all the relevant items.\n",
    "Accuracy: 100.00%\n",
    "\n",
    "Accuracy is the ratio of correctly predicted instances to the total instances. An accuracy of 100% indicates that the model made accurate predictions for all instances.\n",
    "In summary, the KNN model is performing very well based on these metrics. It has low errors (MSE, RMSE, MAE), perfect precision, recall, and accuracy. These results suggest that the KNN model is providing accurate and reliable recommendations for the given data."
   ]
  },
  {
   "cell_type": "markdown",
   "metadata": {},
   "source": [
    "***CONCLUSION***:\n",
    "\n",
    "Comparing the performance metrics between the hybrid approach of content-based filtering and the KNN model, we can analyze the results:\n",
    "\n",
    "**Content-Based Filtering Hybrid Approach:**\n",
    "- Mean Squared Error (Content-Based): 50.67\n",
    "- Root Mean Squared Error (Content-Based): 7.12\n",
    "- Mean Absolute Error (Content-Based): 5.67\n",
    "- Precision (Content-Based): 1.0\n",
    "- Recall (Content-Based): 1.0\n",
    "- Accuracy (Content-Based): 100.00%\n",
    "\n",
    "**KNN Model:**\n",
    "- Mean Squared Error (KNN): 44.98\n",
    "- Root Mean Squared Error (KNN): 6.71\n",
    "- Mean Absolute Error (KNN): 5.34\n",
    "- Precision (KNN): 1.0\n",
    "- Recall (KNN): 1.0\n",
    "- Accuracy (KNN): 100.00%\n",
    "\n",
    "In terms of traditional recommendation system evaluation metrics like MSE, RMSE, and MAE, a lower value indicates better performance. In this case, the KNN model has slightly lower MSE, RMSE, and MAE, which suggests better predictive accuracy compared to the content-based hybrid approach.\n",
    "\n",
    "Both models have precision, recall, and accuracy scores of 1.0, indicating perfect performance in terms of relevant recommendations and overall accuracy. However, it's important to note that these metrics alone may not capture the full user experience or business objectives.\n",
    "\n",
    "Therefore, based on the traditional recommendation system metrics provided, the KNN model appears to perform slightly better. However, the choice between the two models may also depend on specific use cases, user preferences, and business requirements. It's recommended to consider a combination of different metrics and possibly conduct user studies or A/B testing to determine the most effective model for your particular application."
   ]
  },
  {
   "cell_type": "code",
   "execution_count": null,
   "metadata": {},
   "outputs": [],
   "source": []
  }
 ],
 "metadata": {
  "kernelspec": {
   "display_name": "Python 3",
   "language": "python",
   "name": "python3"
  },
  "language_info": {
   "codemirror_mode": {
    "name": "ipython",
    "version": 3
   },
   "file_extension": ".py",
   "mimetype": "text/x-python",
   "name": "python",
   "nbconvert_exporter": "python",
   "pygments_lexer": "ipython3",
   "version": "3.8.5"
  }
 },
 "nbformat": 4,
 "nbformat_minor": 4
}
